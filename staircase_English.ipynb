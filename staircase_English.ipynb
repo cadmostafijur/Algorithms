{
  "nbformat": 4,
  "nbformat_minor": 0,
  "metadata": {
    "colab": {
      "name": "staircase-English.ipynb",
      "provenance": []
    },
    "kernelspec": {
      "name": "python3",
      "display_name": "Python 3"
    },
    "language_info": {
      "name": "python"
    }
  },
  "cells": [
    {
      "cell_type": "code",
      "execution_count": 1,
      "metadata": {
        "colab": {
          "base_uri": "https://localhost:8080/"
        },
        "id": "TfxgjVh4yQlb",
        "outputId": "8249fc7d-8499-4cf9-d370-a03b4c462c58"
      },
      "outputs": [
        {
          "output_type": "stream",
          "name": "stdout",
          "text": [
            "6\n",
            "     #\n",
            "    ##\n",
            "   ###\n",
            "  ####\n",
            " #####\n",
            "######\n"
          ]
        }
      ],
      "source": [
        "#!/bin/python3\n",
        "\n",
        "import math\n",
        "import os\n",
        "import random\n",
        "import re\n",
        "import sys\n",
        "\n",
        "#\n",
        "# Complete the 'staircase' function below.\n",
        "#\n",
        "# The function accepts INTEGER n as parameter.\n",
        "#\n",
        "\n",
        "def staircase(n):  \n",
        "    for i in range(1,n+1):\n",
        "      print(\" \"*(n-i)+\"#\"*i)\n",
        "if __name__ == '__main__':\n",
        "    n = int(input().strip())\n",
        "\n",
        "    staircase(n)\n",
        "  "
      ]
    }
  ]
}